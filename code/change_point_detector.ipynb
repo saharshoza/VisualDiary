{
 "cells": [
  {
   "cell_type": "code",
   "execution_count": 1,
   "metadata": {
    "collapsed": false
   },
   "outputs": [],
   "source": [
    "import os\n",
    "import re\n",
    "import sys\n",
    "import tensorflow as tf\n",
    "import tensorflow.python.platform\n",
    "from tensorflow.python.platform import gfile\n",
    "import numpy as np\n",
    "import math\n",
    "import pickle\n",
    "\n",
    "# Image related imports\n",
    "import av # TODO: Remove this after porting to PIL\n",
    "from PIL import Image\n",
    "# from resizeimage import resizeimage\n",
    "from images2gif import writeGif\n",
    "\n",
    "import matplotlib.pyplot as plt\n",
    "import pickle\n",
    "\n",
    "#import seaborn as sns; sns.set()\n",
    "%matplotlib inline"
   ]
  },
  {
   "cell_type": "code",
   "execution_count": 2,
   "metadata": {
    "collapsed": false
   },
   "outputs": [],
   "source": [
    "path_to_video = 'test.mp4'\n",
    "data_dir = '../examples/0/input/'\n",
    "model_dir = '../imagenet/classify_image_graph_def.pb'\n",
    "results_dir = '../examples/0/results/'\n",
    "images_dir = os.path.join(data_dir, 'frames/')\n",
    "cnn_diff_dir = os.path.join(results_dir, 'cnn_diff_tmp')\n",
    "pixel_diff_dir = os.path.join(results_dir, 'pixel_diff_tmp')\n",
    "out_dir = os.path.join(results_dir, 'combined_frames_tmp')\n",
    "path_to_gif = os.path.join(results_dir, 'gif')\n",
    "path_to_gps = os.path.join(results_dir, 'gps_out/gps_out.npy')\n",
    "path_to_ground_truth = os.path.join(data_dir, 'ground_truth/ground_truth.npy')\n",
    "path_to_pixel_cnn_compare = os.path.join(results_dir,'pixel_cnn_compare/compare.png')\n",
    "pickle_path = os.path.join(results_dir, 'vardump.pickle')"
   ]
  },
  {
   "cell_type": "code",
   "execution_count": 3,
   "metadata": {
    "collapsed": true
   },
   "outputs": [],
   "source": [
    "def frame_extractor(path_to_video, path_to_frames):\n",
    "    container = av.open(path_to_video)\n",
    "    video = next(s for s in container.streams if s.type == b'video')\n",
    "    for packet in container.demux(video):\n",
    "        for frame in packet.decode():\n",
    "            frame.to_image().save(path_to_frames + '/frame-%06d.jpg' % frame.index)"
   ]
  },
  {
   "cell_type": "code",
   "execution_count": 4,
   "metadata": {
    "collapsed": false
   },
   "outputs": [],
   "source": [
    "class FeatureProcessor:\n",
    "    def __init__(self, model_path, path_to_frames, change_points=5):\n",
    "        self.model_path = model_path\n",
    "        self.images_path = sorted([path_to_frames + f for f in os.listdir(path_to_frames) if re.search('jpg|JPG', f)])\n",
    "        self.change_points = change_points \n",
    "        \n",
    "    def create_graph(self):\n",
    "        with gfile.FastGFile(self.model_path, 'rb') as f:\n",
    "            graph_def = tf.GraphDef()\n",
    "            graph_def.ParseFromString(f.read())\n",
    "            _ = tf.import_graph_def(graph_def, name='')\n",
    "    \n",
    "    def get_layer_list(self):\n",
    "        self.create_graph()\n",
    "        with tf.Session() as sess:\n",
    "            operation_list = sess.graph.get_operations()\n",
    "            for op in operation_list:\n",
    "                print op.name\n",
    "                print op.values().get_shape()\n",
    "\n",
    "    # TODO: Experiment with other layers.            \n",
    "    def extract_features(self, layer_name='pool_3:0', nb_features=2048):\n",
    "        features = np.zeros((len(self.images_path), nb_features))\n",
    "        labels = []\n",
    "        self.create_graph()\n",
    "        with tf.Session() as sess:\n",
    "            next_to_last_tensor = sess.graph.get_tensor_by_name(layer_name)\n",
    "            for index, image in enumerate(self.images_path):\n",
    "                if (index % 100 == 0):\n",
    "                    print('Processing %s...' % (image))\n",
    "                if not gfile.Exists(image):\n",
    "                    tf.logging.fatal('File does not exist %s', image)\n",
    "                    continue\n",
    "                image_data = gfile.FastGFile(image, 'rb').read()\n",
    "                predictions = sess.run(next_to_last_tensor, {'DecodeJpeg/contents:0': image_data})\n",
    "                features[index, :] = np.squeeze(predictions)\n",
    "        return features\n",
    "    \n",
    "    def compute_change_points(self, distances):\n",
    "        change_points = np.argpartition(-(distances/max(distances)),self.change_points)\n",
    "        return np.sort(change_points[0:self.change_points]).tolist()\n",
    "    \n",
    "    @staticmethod\n",
    "    def get_feature_differences(features):\n",
    "        features_1 = features[:-1, :]\n",
    "        features_2 = features[1:, :]\n",
    "        saliency_matrix = features_2 - features_1\n",
    "\n",
    "        differences = []\n",
    "        for vector in saliency_matrix:\n",
    "            differences.append(np.linalg.norm(vector))\n",
    "        differences = np.asarray(differences)\n",
    "        return differences, saliency_matrix\n",
    "\n",
    "    def get_pixel_differences(self):\n",
    "        prev_feature = np.array(Image.open(self.images_path[0])).flatten()\n",
    "        nb_features = len(prev_feature.flatten())\n",
    "        distances = []\n",
    "        for index, next_path in enumerate(self.images_path[1:]):\n",
    "                if (index % 100 == 0 and index > 0):\n",
    "                    print('Processing Distance for %s...' % (next_path))\n",
    "                next_feature = np.array(Image.open(next_path)).flatten()\n",
    "                distances.append(np.linalg.norm(next_feature - prev_feature))\n",
    "                prev_feature = next_feature\n",
    "        return distances\n",
    "    "
   ]
  },
  {
   "cell_type": "code",
   "execution_count": 5,
   "metadata": {
    "collapsed": false
   },
   "outputs": [],
   "source": [
    "class PlotterOut:\n",
    "    def __init__(self,differences,frames_for_video=150):\n",
    "        self.frames_for_video = frames_for_video\n",
    "        self.start_frame = np.random.choice(len(differences)-self.frames_for_video-1,1)[0]\n",
    "    \n",
    "    def save_difference_plots(self,differences, path, color):\n",
    "        # 5 = 120 pixels\n",
    "        differences = differences[self.start_frame:self.start_frame+self.frames_for_video]\n",
    "        differences = differences / max(differences)\n",
    "        plt.rcParams['figure.figsize'] = (11.25, 3.75) \n",
    "        plt.figure()\n",
    "        num_frames = len(differences)\n",
    "        image_idx_list = range(self.start_frame, self.start_frame + self.frames_for_video)\n",
    "        for (list_idx,i) in enumerate(image_idx_list):\n",
    "            plot_file = os.path.join(path, '%06d.png' % i)\n",
    "            plt.plot(differences[:list_idx+1], color=color)\n",
    "            plt.xlim([0, num_frames])\n",
    "            plt.ylim([0, 1])\n",
    "            plt.savefig(plot_file)\n",
    "            \n",
    "    def combine_images(self):\n",
    "        # plt.rcParams['figure.figsize'] = (10, 5)\n",
    "        image_paths = sorted(os.listdir(images_dir))\n",
    "        num_images = self.frames_for_video\n",
    "        image_idx_list = range(self.start_frame, self.start_frame + self.frames_for_video)\n",
    "        for (list_idx,i) in enumerate(image_idx_list):\n",
    "            if list_idx % 50 == 0:\n",
    "                print('Now processing', list_idx, 'out of', num_images)\n",
    "            im_file = os.path.join(images_dir, image_paths[i])\n",
    "            cnn_diff_file = os.path.join(cnn_diff_dir, '%06d.png' % i)\n",
    "            pixel_diff_file = os.path.join(pixel_diff_dir, '%06d.png' % i)\n",
    "            out_file = os.path.join(out_dir, '%06d.png' % i)\n",
    "            cnn_diff_im = np.asarray(Image.open(cnn_diff_file))\n",
    "            pixel_diff_im = np.asarray(Image.open(pixel_diff_file))\n",
    "            diff_im = np.vstack([cnn_diff_im, pixel_diff_im])\n",
    "            diff_im = diff_im[:,:,0:3]\n",
    "            im = Image.open(im_file)\n",
    "            im = im.resize((diff_im.shape[1],diff_im.shape[0]),Image.ANTIALIAS)\n",
    "            im = np.asarray(im)\n",
    "            combined = np.hstack([im, diff_im])\n",
    "            combined_image = Image.fromarray(combined)\n",
    "            #combined_image.show()\n",
    "            combined_image.save(os.path.join(out_dir, '%06d.png' % list_idx), 'PNG')    \n",
    "    \n",
    "    @staticmethod\n",
    "    def get_smoothed_list(list_to_smooth, window_size = 10):\n",
    "        num_elements = len(list_to_smooth)\n",
    "        smoothed_list = []\n",
    "        cur_sum = sum(list_to_smooth[:window_size])\n",
    "        smoothed_list.append(cur_sum * 1.0 / window_size)\n",
    "        for i in xrange(window_size, num_elements):\n",
    "            cur_sum -= list_to_smooth[i-window_size]\n",
    "            cur_sum += list_to_smooth[i]\n",
    "            smoothed_list.append(cur_sum * 1.0 / window_size)\n",
    "        return smoothed_list\n",
    "    \n",
    "    @staticmethod\n",
    "    def plot_differences(feature_differences, pixel_differences, path_to_pixel_cnn_compare):\n",
    "        feature_differences = feature_differences / max(feature_differences)\n",
    "        pixel_differences = pixel_differences / max(pixel_differences)\n",
    "        plt.plot(feature_differences, label='Feature Differences')\n",
    "        plt.plot(pixel_differences, label='Pixel Differences')\n",
    "        plt.xlabel('Frame Index')\n",
    "        plt.ylabel('Normalized Difference')\n",
    "        plt.title('Comparison of Change Point between CNN and Raw Pixel')\n",
    "        plt.legend()\n",
    "        plt.savefig(path_to_pixel_cnn_compare)\n",
    "        \n",
    "    @staticmethod   \n",
    "    def generate_gif(change_point_list, path_to_frames, path_to_gif):\n",
    "        gif_list = []\n",
    "        all_images_list = [path_to_frames + f for f in os.listdir(path_to_frames) if re.search('jpg|JPG', f)]\n",
    "        gif_list_of_lists = [[change_point,change_point+(change_point_list[change_point_index+1]-change_point_list[change_point_index])/3,change_point+2*(change_point_list[change_point_index+1]-change_point_list[change_point_index])/3] for (change_point_index,change_point) in enumerate(change_point_list) if change_point_index<len(change_point_list)-1]\n",
    "        for gif_segment in gif_list_of_lists:\n",
    "            gif_list.extend(gif_segment)\n",
    "        selected_gif_images = [Image.open(all_images_list[gif_points]) for gif_points in gif_list]\n",
    "        writeGif(path_to_gif, selected_gif_images, duration=0.3, subRectangles=False)"
   ]
  },
  {
   "cell_type": "code",
   "execution_count": 6,
   "metadata": {
    "collapsed": true
   },
   "outputs": [],
   "source": [
    "class VideoLocChangePoint:\n",
    "    def __init__(self,path_to_gps,feature_differences,change_points=1,fps=24):\n",
    "        self.change_points = change_points\n",
    "        self.fps = fps\n",
    "        self.feature_differences = feature_differences/max(feature_differences)\n",
    "        self.gps_stationary_intervals = np.load(path_to_gps).tolist()\n",
    "        \n",
    "    def get_motion_boundaries(self):\n",
    "        boundaries = []\n",
    "        for interval in self.gps_stationary_intervals:\n",
    "            interval_multiplied = [val*self.fps for val in interval]\n",
    "            boundaries.extend(interval_multiplied)\n",
    "        return boundaries\n",
    "\n",
    "    def get_top_k(self,start,end):\n",
    "        differences = self.feature_differences[start:end+1]\n",
    "        chosen = np.sort(np.argpartition(-differences,self.change_points)[0:self.change_points]).tolist()\n",
    "        return chosen\n",
    "\n",
    "    def merge_changepoints(self):\n",
    "        boundaries = self.get_motion_boundaries()\n",
    "        #adding last frame index\n",
    "        boundaries.append(len(self.feature_differences)-1)\n",
    "        changepoints = []\n",
    "        start = 0\n",
    "        for end in boundaries:\n",
    "            indices_in_window = self.get_top_k(start,end)\n",
    "            changepoints += [a+start for a in indices_in_window]\n",
    "            start = end\n",
    "        return changepoints"
   ]
  },
  {
   "cell_type": "code",
   "execution_count": 7,
   "metadata": {
    "collapsed": true
   },
   "outputs": [],
   "source": [
    "class EvaluationMetric:\n",
    "    def __init__(self,path_to_ground_truth,error=5):\n",
    "        self.ground_truth = np.load(path_to_ground_truth).tolist()\n",
    "        #self.ground_truth = [0,1800,7632,11712,19872,22800,34656]\n",
    "        self.error = error\n",
    "        \n",
    "    def compute_penalty(self,change_point_list):\n",
    "        penalty = 0\n",
    "        prev_partition_idx = 0\n",
    "        for change_point in change_point_list:\n",
    "            if prev_partition_idx == len(self.ground_truth)-1:\n",
    "                break\n",
    "            if change_point < self.ground_truth[prev_partition_idx]:\n",
    "                continue\n",
    "            if change_point >= self.ground_truth[prev_partition_idx] - self.error and change_point <= self.ground_truth[prev_partition_idx+1] + self.error:\n",
    "                prev_partition_idx += 1\n",
    "                continue\n",
    "            if change_point >= self.ground_truth[prev_partition_idx + 1] + self.error:\n",
    "                while(self.ground_truth[prev_partition_idx + 1] <= change_point):\n",
    "                    penalty += (math.log(self.ground_truth[prev_partition_idx + 1] - self.ground_truth[prev_partition_idx]))/math.log(10)\n",
    "                    prev_partition_idx += 1\n",
    "                    if prev_partition_idx == len(self.ground_truth)-1:\n",
    "                        break\n",
    "        while(prev_partition_idx < len(self.ground_truth)-1):\n",
    "            penalty += (math.log(self.ground_truth[prev_partition_idx + 1] - self.ground_truth[prev_partition_idx]))/math.log(10)\n",
    "            prev_partition_idx += 1\n",
    "        return penalty     "
   ]
  },
  {
   "cell_type": "code",
   "execution_count": 10,
   "metadata": {
    "collapsed": false,
    "scrolled": true
   },
   "outputs": [
    {
     "name": "stdout",
     "output_type": "stream",
     "text": [
      "('Now processing', 0, 'out of', 150)\n",
      "('Now processing', 50, 'out of', 150)\n",
      "('Now processing', 100, 'out of', 150)\n"
     ]
    },
    {
     "data": {
      "image/png": "[encoded data removed]",
      "text/plain": [
       "<matplotlib.figure.Figure at 0x7fc8f6e4cad0>"
      ]
     },
     "metadata": {},
     "output_type": "display_data"
    },
    {
     "data": {
      "image/png": "[encoded data removed]",
      "text/plain": [
       "<matplotlib.figure.Figure at 0x7fc8f6c9f050>"
      ]
     },
     "metadata": {},
     "output_type": "display_data"
    },
    {
     "data": {
      "image/png": "[encoded data removed]",
      "text/plain": [
       "<matplotlib.figure.Figure at 0x7fc8f2def750>"
      ]
     },
     "metadata": {},
     "output_type": "display_data"
    }
   ],
   "source": [
    "if __name__ == \"__main__\":\n",
    "    \n",
    "    # Feature Processor class to extract features from pre trained model\n",
    "    feature_processor = FeatureProcessor(model_dir, images_dir)\n",
    "    feature_processor.create_graph()\n",
    "    features = feature_processor.extract_features()\n",
    "    \n",
    "    # Find differences using extracted features to identify saliency\n",
    "    cnn_differences, saliency_matrix = feature_processor.get_feature_differences(features)\n",
    "    \n",
    "    # Find differences from raw pixels\n",
    "    pixel_differences = feature_processor.get_pixel_differences()\n",
    "    \n",
    "    # Find change points from cnn and pixel\n",
    "    cnn_change_points = feature_processor.compute_change_points(cnn_differences)\n",
    "    pixel_change_points = feature_processor.compute_change_points(pixel_differences)\n",
    "    \n",
    "    # Use GPS sensor modality to find change points\n",
    "    vid_gps_change_point = VideoLocChangePoint(path_to_gps,cnn_differences)\n",
    "    vid_gps_changepoints = vid_gps_change_point.merge_changepoints()\n",
    "    \n",
    "    # Evaluation metric class. Find the penalty of each of the methods\n",
    "    evaluation_metric = EvaluationMetric(path_to_ground_truth)\n",
    "    cnn_penalty = evaluation_metric.compute_penalty(cnn_change_points)\n",
    "    vid_gps_penalty = evaluation_metric.compute_penalty(vid_gps_changepoints)\n",
    "    \n",
    "    # Write to pickle file to save in case of failure in next steps\n",
    "    with open(pickle_path,'w') as f:\n",
    "        pickle.dump([cnn_differences,pixel_differences,cnn_change_points,pixel_change_points,vid_gps_changepoints,cnn_penalty,vid_gps_penalty],f)\n",
    "    \n",
    "    # Instantiate class to give plots, gif and video\n",
    "    plotter_out = PlotterOut(cnn_differences)\n",
    "    \n",
    "    # Generate gif using cnn, pixel and video + gps\n",
    "    plotter_out.generate_gif(cnn_change_points, images_dir, path_to_gif+'/cnn.gif')\n",
    "    plotter_out.generate_gif(pixel_change_points, images_dir, path_to_gif+'/pixel.gif')\n",
    "    plotter_out.generate_gif(vid_gps_changepoints, images_dir, path_to_gif+'/gps_vid.gif')\n",
    "    \n",
    "    # Plot the differences in saliency identified by cnn and features separately\n",
    "    plotter_out.plot_differences(plotter_out.get_smoothed_list(cnn_differences), plotter_out.get_smoothed_list(pixel_differences),path_to_pixel_cnn_compare)\n",
    "    \n",
    "    # This is for generating video showing the cnn superiority over pixel differences.\n",
    "    # Uncomment this for all but demo video sequence (200 frames at max)\n",
    "    plotter_out.save_difference_plots(cnn_differences, cnn_diff_dir, '#ff6666')\n",
    "    plotter_out.save_difference_plots(pixel_differences, pixel_diff_dir, '#79cdcd')\n",
    "    plotter_out.combine_images()\n",
    "    \n",
    "    #Use this on command line to convert to video\n",
    "    #ffmpeg -f image2 -r 24 -i %06d.png -vcodec mpeg4 -y movie.mp4"
   ]
  },
  {
   "cell_type": "code",
   "execution_count": 9,
   "metadata": {
    "collapsed": false
   },
   "outputs": [
    {
     "name": "stdout",
     "output_type": "stream",
     "text": [
      "[146]\n",
      "[139, 142, 143, 146, 150]\n",
      "[148, 184, 200, 220, 246]\n"
     ]
    }
   ],
   "source": [
    "print vid_gps_changepoints\n",
    "print cnn_change_points\n",
    "print pixel_change_points"
   ]
  },
  {
   "cell_type": "code",
   "execution_count": null,
   "metadata": {
    "collapsed": false
   },
   "outputs": [],
   "source": [
    "print cnn_penalty\n",
    "print vid_gps_penalty"
   ]
  }
 ],
 "metadata": {
  "anaconda-cloud": {},
  "kernelspec": {
   "display_name": "Python [Root]",
   "language": "python",
   "name": "Python [Root]"
  },
  "language_info": {
   "codemirror_mode": {
    "name": "ipython",
    "version": 2
   },
   "file_extension": ".py",
   "mimetype": "text/x-python",
   "name": "python",
   "nbconvert_exporter": "python",
   "pygments_lexer": "ipython2",
   "version": "2.7.12"
  }
 },
 "nbformat": 4,
 "nbformat_minor": 0
}
