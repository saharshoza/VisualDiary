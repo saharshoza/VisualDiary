{
 "cells": [
  {
   "cell_type": "code",
   "execution_count": 1,
   "metadata": {
    "collapsed": true
   },
   "outputs": [],
   "source": [
    "import os\n",
    "import re\n",
    "\n",
    "import tensorflow as tf\n",
    "import tensorflow.python.platform\n",
    "from tensorflow.python.platform import gfile\n",
    "import numpy as np\n",
    "import pandas as pd\n",
    "import sklearn\n",
    "from sklearn import cross_validation\n",
    "from sklearn.metrics import accuracy_score, confusion_matrix\n",
    "from sklearn.svm import SVC, LinearSVC\n",
    "import matplotlib.pyplot as plt\n",
    "%matplotlib inline\n",
    "import pickle\n",
    "import av"
   ]
  },
  {
   "cell_type": "code",
   "execution_count": 2,
   "metadata": {
    "collapsed": true
   },
   "outputs": [],
   "source": [
    "path_to_video = '/home/saharsh/UTAustin/Sem1/EE382V Activity Sensing/VisualDiary/Code/test.mp4'\n",
    "path_to_frames = '/home/saharsh/UTAustin/Sem1/EE382V Activity Sensing/VisualDiary/Code/frames/'\n",
    "model_dir = '/home/saharsh/Documents/imagenet/classify_image_graph_def.pb'\n",
    "images_dir = path_to_frames"
   ]
  },
  {
   "cell_type": "code",
   "execution_count": 3,
   "metadata": {
    "collapsed": true
   },
   "outputs": [],
   "source": [
    "def frame_extractor(path_to_video,path_to_frames):\n",
    "    container = av.open(path_to_video)\n",
    "    video = next(s for s in container.streams if s.type == b'video')\n",
    "    for packet in container.demux(video):\n",
    "        for frame in packet.decode():\n",
    "            frame.to_image().save(path_to_frames+'/frame-%04d.jpg' % frame.index)"
   ]
  },
  {
   "cell_type": "code",
   "execution_count": 4,
   "metadata": {
    "collapsed": true
   },
   "outputs": [],
   "source": [
    "#model_dir = '/home/saharsh/Documents/imagenet/classify_image_graph_def.pb'\n",
    "#images_dir = '/home/saharsh/Documents/imagenet/'"
   ]
  },
  {
   "cell_type": "code",
   "execution_count": 5,
   "metadata": {
    "collapsed": false
   },
   "outputs": [],
   "source": [
    "class ExtractFeatures:\n",
    "    def __init__(self,model_path,images_dir):\n",
    "        self.model = model_path\n",
    "        self.list_images = [images_dir+f for f in os.listdir(images_dir) if re.search('jpg|JPG', f)]\n",
    "    \n",
    "    def create_graph(self):\n",
    "        with gfile.FastGFile(self.model, 'rb') as f:\n",
    "            graph_def = tf.GraphDef()\n",
    "            graph_def.ParseFromString(f.read())\n",
    "            _ = tf.import_graph_def(graph_def, name='')\n",
    "    \n",
    "    def get_layer_list(self):\n",
    "        self.create_graph()\n",
    "        with tf.Session() as sess:\n",
    "            operation_list = sess.graph.get_operations()\n",
    "            for op in operation_list:\n",
    "                print op.name\n",
    "                print op.values().get_shape()\n",
    "\n",
    "    def extract_features(self,layer_name='pool_3:0',nb_features=2048):\n",
    "        features = np.empty((len(self.list_images),nb_features))\n",
    "        labels = []\n",
    "        self.create_graph()\n",
    "        with tf.Session() as sess:\n",
    "            next_to_last_tensor = sess.graph.get_tensor_by_name(layer_name)\n",
    "            for ind, image in enumerate(self.list_images):\n",
    "                if (ind%100 == 0):\n",
    "                    print('Processing %s...' % (image))\n",
    "                if not gfile.Exists(image):\n",
    "                    tf.logging.fatal('File does not exist %s', image)\n",
    "                    continue\n",
    "\n",
    "                image_data = gfile.FastGFile(image, 'rb').read()\n",
    "                predictions = sess.run(next_to_last_tensor,{'DecodeJpeg/contents:0': image_data})\n",
    "                features[ind,:] = np.squeeze(predictions)\n",
    "                labels.append(re.split('_\\d+',image.split('/')[1])[0])\n",
    "\n",
    "        return features, labels"
   ]
  },
  {
   "cell_type": "code",
   "execution_count": 6,
   "metadata": {
    "collapsed": false
   },
   "outputs": [],
   "source": [
    "frame_extractor(path_to_video,path_to_frames)"
   ]
  },
  {
   "cell_type": "code",
   "execution_count": 6,
   "metadata": {
    "collapsed": true
   },
   "outputs": [],
   "source": [
    "extract_features = ExtractFeatures(model_dir,images_dir)"
   ]
  },
  {
   "cell_type": "code",
   "execution_count": 7,
   "metadata": {
    "collapsed": true
   },
   "outputs": [],
   "source": [
    "extract_features.create_graph()"
   ]
  },
  {
   "cell_type": "code",
   "execution_count": 8,
   "metadata": {
    "collapsed": false
   },
   "outputs": [
    {
     "name": "stdout",
     "output_type": "stream",
     "text": [
      "Processing /home/saharsh/UTAustin/Sem1/EE382V Activity Sensing/VisualDiary/Code/frames/frame-6695.jpg...\n"
     ]
    }
   ],
   "source": [
    "features, labels= extract_features.extract_features()"
   ]
  },
  {
   "cell_type": "code",
   "execution_count": 9,
   "metadata": {
    "collapsed": false
   },
   "outputs": [
    {
     "data": {
      "text/plain": [
       "['/home/saharsh/UTAustin/Sem1/EE382V Activity Sensing/VisualDiary/Code/frames/frame-6695.jpg',\n",
       " '/home/saharsh/UTAustin/Sem1/EE382V Activity Sensing/VisualDiary/Code/frames/frame-0000.jpg',\n",
       " '/home/saharsh/UTAustin/Sem1/EE382V Activity Sensing/VisualDiary/Code/frames/frame-4091.jpg',\n",
       " '/home/saharsh/UTAustin/Sem1/EE382V Activity Sensing/VisualDiary/Code/frames/frame-0169.jpg']"
      ]
     },
     "execution_count": 9,
     "metadata": {},
     "output_type": "execute_result"
    }
   ],
   "source": [
    "extract_features.list_images"
   ]
  },
  {
   "cell_type": "code",
   "execution_count": 10,
   "metadata": {
    "collapsed": false
   },
   "outputs": [
    {
     "name": "stdout",
     "output_type": "stream",
     "text": [
      "(4, 2048)\n"
     ]
    }
   ],
   "source": [
    "print features.shape"
   ]
  },
  {
   "cell_type": "code",
   "execution_count": 11,
   "metadata": {
    "collapsed": false
   },
   "outputs": [
    {
     "name": "stdout",
     "output_type": "stream",
     "text": [
      "[[ 0.22114229  0.          0.23382573 ...,  0.78433806  0.1640918\n",
      "   0.07305633]\n",
      " [ 0.62187582  0.13670717  0.42898241 ...,  0.40242061  0.          0.83367223]\n",
      " [ 0.20118587  0.02077033  0.45151514 ...,  0.90195483  0.20866983\n",
      "   0.01192892]\n",
      " [ 0.44163454  0.          0.31076074 ...,  0.18520311  0.51556581\n",
      "   0.30155888]]\n"
     ]
    },
    {
     "data": {
      "image/png": "[encoded data removed]",
      "text/plain": [
       "<matplotlib.figure.Figure at 0x7fcffcf171d0>"
      ]
     },
     "metadata": {},
     "output_type": "display_data"
    }
   ],
   "source": [
    "#plt.plot(range(0,features.shape[1]), features)\n",
    "print features\n",
    "plt.plot(range(0,features.shape[1]),features[0])\n",
    "plt.show()"
   ]
  },
  {
   "cell_type": "code",
   "execution_count": 12,
   "metadata": {
    "collapsed": false
   },
   "outputs": [
    {
     "data": {
      "image/png": "[encoded data removed]",
      "text/plain": [
       "<matplotlib.figure.Figure at 0x7fcfdce7a2d0>"
      ]
     },
     "metadata": {},
     "output_type": "display_data"
    }
   ],
   "source": [
    "plt.plot(range(0,features.shape[1]),features[1])\n",
    "plt.show()"
   ]
  },
  {
   "cell_type": "code",
   "execution_count": 13,
   "metadata": {
    "collapsed": false
   },
   "outputs": [
    {
     "data": {
      "image/png": "[encoded data removed]",
      "text/plain": [
       "<matplotlib.figure.Figure at 0x7fcfe60e9210>"
      ]
     },
     "metadata": {},
     "output_type": "display_data"
    }
   ],
   "source": [
    "plt.plot(range(0,features.shape[1]),features[2])\n",
    "plt.show()"
   ]
  },
  {
   "cell_type": "code",
   "execution_count": 14,
   "metadata": {
    "collapsed": false
   },
   "outputs": [
    {
     "data": {
      "image/png": "[encoded data removed]",
      "text/plain": [
       "<matplotlib.figure.Figure at 0x7fcfe5fe33d0>"
      ]
     },
     "metadata": {},
     "output_type": "display_data"
    }
   ],
   "source": [
    "plt.plot(range(0,features.shape[1]),features[3])\n",
    "plt.show()"
   ]
  },
  {
   "cell_type": "code",
   "execution_count": null,
   "metadata": {
    "collapsed": true
   },
   "outputs": [],
   "source": []
  }
 ],
 "metadata": {
  "kernelspec": {
   "display_name": "Python [Root]",
   "language": "python",
   "name": "Python [Root]"
  },
  "language_info": {
   "codemirror_mode": {
    "name": "ipython",
    "version": 2
   },
   "file_extension": ".py",
   "mimetype": "text/x-python",
   "name": "python",
   "nbconvert_exporter": "python",
   "pygments_lexer": "ipython2",
   "version": "2.7.12"
  }
 },
 "nbformat": 4,
 "nbformat_minor": 0
}
